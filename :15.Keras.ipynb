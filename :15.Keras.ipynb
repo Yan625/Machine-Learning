{
 "cells": [
  {
   "cell_type": "markdown",
   "metadata": {},
   "source": [
    "# Keras\n",
    "\n",
    "1.Why should we use keras instead of using tensorflow?\n",
    "\n",
    "    it simplifies the code for us and we don't have to write redundant code\n",
    "    \n",
    "2.Flow of code in keras\n",
    "\n",
    "    1) create a model\n",
    "    \n",
    "    2) defind architecture: 2.1)how many layers\n",
    "                            2.2)how many units\n",
    "                            2.3)what activation function\n",
    "                            \n",
    "    3) compile: 3.1)cost function\n",
    "                3.2)opptimizer\n",
    "                3.3)metrics\n",
    "                \n",
    "    4) fit: 4.1)batch_size\n",
    "            4.2)number of iterations\n",
    "            4.3)training data\n",
    "\n",
    "3.Keras models:\n",
    "\n",
    "    1)sequential models\n",
    "    2)functional API model\n",
    "                            "
   ]
  },
  {
   "cell_type": "code",
   "execution_count": 23,
   "metadata": {},
   "outputs": [],
   "source": [
    "import tensorflow as tf\n",
    "from tensorflow import keras\n",
    "from tensorflow.keras import backend\n",
    "from keras.models import Sequential\n",
    "from keras.layers import Dense"
   ]
  },
  {
   "cell_type": "code",
   "execution_count": 14,
   "metadata": {},
   "outputs": [],
   "source": [
    "model= Sequential()"
   ]
  },
  {
   "cell_type": "code",
   "execution_count": 17,
   "metadata": {},
   "outputs": [],
   "source": [
    "# using dense layer\n",
    "layer1 = Dense(units=32, activation = 'relu', input_dim = 30)#input dimension\n",
    "model.add(layer1)\n",
    "model.add(Dense(units=16, activation = 'relu'))#Number of units in the layer are compulsory while adding a layer.\n",
    "model.add(Dense(units=1, activation = 'sigmoid'))"
   ]
  },
  {
   "cell_type": "code",
   "execution_count": 18,
   "metadata": {},
   "outputs": [],
   "source": [
    "model.compile(optimizer='adam', loss='binary_crossentropy', metrics=['accuracy'])"
   ]
  },
  {
   "cell_type": "code",
   "execution_count": 19,
   "metadata": {},
   "outputs": [],
   "source": [
    "from sklearn import datasets\n",
    "cancer = datasets.load_breast_cancer()\n",
    "\n",
    "from sklearn.model_selection import train_test_split\n",
    "x_train, x_test, y_train, y_test = train_test_split(cancer.data, cancer.target, test_size = 0.2, random_state = 0)\n",
    "\n",
    "from sklearn.preprocessing import StandardScaler\n",
    "sc = StandardScaler()\n",
    "x_train = sc.fit_transform(x_train)\n",
    "x_test = sc.transform(x_test)"
   ]
  },
  {
   "cell_type": "code",
   "execution_count": 20,
   "metadata": {},
   "outputs": [
    {
     "name": "stdout",
     "output_type": "stream",
     "text": [
      "Train on 455 samples, validate on 114 samples\n",
      "Epoch 1/20\n",
      "455/455 [==============================] - 0s 1ms/step - loss: 0.7980 - acc: 0.3253 - val_loss: 0.6644 - val_acc: 0.5351\n",
      "Epoch 2/20\n",
      "455/455 [==============================] - 0s 70us/step - loss: 0.5751 - acc: 0.6967 - val_loss: 0.5049 - val_acc: 0.7719\n",
      "Epoch 3/20\n",
      "455/455 [==============================] - 0s 69us/step - loss: 0.4419 - acc: 0.8703 - val_loss: 0.4015 - val_acc: 0.8860\n",
      "Epoch 4/20\n",
      "455/455 [==============================] - 0s 82us/step - loss: 0.3512 - acc: 0.9253 - val_loss: 0.3249 - val_acc: 0.9211\n",
      "Epoch 5/20\n",
      "455/455 [==============================] - 0s 77us/step - loss: 0.2829 - acc: 0.9451 - val_loss: 0.2691 - val_acc: 0.9298\n",
      "Epoch 6/20\n",
      "455/455 [==============================] - 0s 63us/step - loss: 0.2328 - acc: 0.9604 - val_loss: 0.2336 - val_acc: 0.9298\n",
      "Epoch 7/20\n",
      "455/455 [==============================] - 0s 92us/step - loss: 0.1982 - acc: 0.9626 - val_loss: 0.2059 - val_acc: 0.9298\n",
      "Epoch 8/20\n",
      "455/455 [==============================] - 0s 118us/step - loss: 0.1708 - acc: 0.9670 - val_loss: 0.1858 - val_acc: 0.9298\n",
      "Epoch 9/20\n",
      "455/455 [==============================] - 0s 113us/step - loss: 0.1505 - acc: 0.9692 - val_loss: 0.1695 - val_acc: 0.9298\n",
      "Epoch 10/20\n",
      "455/455 [==============================] - 0s 95us/step - loss: 0.1338 - acc: 0.9692 - val_loss: 0.1574 - val_acc: 0.9298\n",
      "Epoch 11/20\n",
      "455/455 [==============================] - 0s 103us/step - loss: 0.1209 - acc: 0.9714 - val_loss: 0.1482 - val_acc: 0.9386\n",
      "Epoch 12/20\n",
      "455/455 [==============================] - 0s 73us/step - loss: 0.1112 - acc: 0.9714 - val_loss: 0.1426 - val_acc: 0.9386\n",
      "Epoch 13/20\n",
      "455/455 [==============================] - 0s 76us/step - loss: 0.1029 - acc: 0.9736 - val_loss: 0.1359 - val_acc: 0.9386\n",
      "Epoch 14/20\n",
      "455/455 [==============================] - 0s 85us/step - loss: 0.0960 - acc: 0.9736 - val_loss: 0.1304 - val_acc: 0.9386\n",
      "Epoch 15/20\n",
      "455/455 [==============================] - 0s 93us/step - loss: 0.0899 - acc: 0.9736 - val_loss: 0.1259 - val_acc: 0.9386\n",
      "Epoch 16/20\n",
      "455/455 [==============================] - 0s 63us/step - loss: 0.0852 - acc: 0.9824 - val_loss: 0.1234 - val_acc: 0.9474\n",
      "Epoch 17/20\n",
      "455/455 [==============================] - 0s 61us/step - loss: 0.0815 - acc: 0.9802 - val_loss: 0.1198 - val_acc: 0.9474\n",
      "Epoch 18/20\n",
      "455/455 [==============================] - 0s 63us/step - loss: 0.0779 - acc: 0.9824 - val_loss: 0.1167 - val_acc: 0.9474\n",
      "Epoch 19/20\n",
      "455/455 [==============================] - 0s 72us/step - loss: 0.0748 - acc: 0.9824 - val_loss: 0.1160 - val_acc: 0.9474\n",
      "Epoch 20/20\n",
      "455/455 [==============================] - 0s 51us/step - loss: 0.0721 - acc: 0.9824 - val_loss: 0.1136 - val_acc: 0.9561\n"
     ]
    },
    {
     "data": {
      "text/plain": [
       "<keras.callbacks.History at 0x113b8ef98>"
      ]
     },
     "execution_count": 20,
     "metadata": {},
     "output_type": "execute_result"
    }
   ],
   "source": [
    "model.fit(x_train, y_train, epochs=20, batch_size = 50, validation_data=(x_test, y_test))\n",
    "#epochs-->iteration:then number of times you want to do forward and backword propagation,by default epoch is 1\n",
    "#batch_size:how many points one time you want to use in gradient descent\n",
    "#validation_data is used to find the accuracy\n",
    "#if provide it 1000 data points with 40 epochs and 20 as the batch size,the weights will get updated 2000 times"
   ]
  },
  {
   "cell_type": "code",
   "execution_count": 25,
   "metadata": {},
   "outputs": [
    {
     "data": {
      "text/plain": [
       "array([[9.45338979e-03],\n",
       "       [9.59782124e-01],\n",
       "       [9.97047246e-01],\n",
       "       [9.68064725e-01],\n",
       "       [9.98051286e-01],\n",
       "       [9.93410885e-01],\n",
       "       [9.62204754e-01],\n",
       "       [9.92683947e-01],\n",
       "       [9.94924188e-01],\n",
       "       [9.99270141e-01],\n",
       "       [5.94613910e-01],\n",
       "       [8.08676362e-01],\n",
       "       [9.96758044e-01],\n",
       "       [3.02972764e-01],\n",
       "       [5.70331633e-01],\n",
       "       [1.26379021e-02],\n",
       "       [9.76193011e-01],\n",
       "       [2.28471399e-04],\n",
       "       [5.85079566e-03],\n",
       "       [1.10977271e-05],\n",
       "       [2.03098124e-03],\n",
       "       [1.71434954e-02],\n",
       "       [9.76428449e-01],\n",
       "       [9.91890550e-01],\n",
       "       [5.88494772e-03],\n",
       "       [9.98940408e-01],\n",
       "       [9.99453366e-01],\n",
       "       [1.77280698e-02],\n",
       "       [9.95720565e-01],\n",
       "       [2.40714478e-04],\n",
       "       [9.99653578e-01],\n",
       "       [2.06608465e-03],\n",
       "       [8.18853736e-01],\n",
       "       [1.51835363e-02],\n",
       "       [9.99876499e-01],\n",
       "       [9.98792611e-03],\n",
       "       [9.80887175e-01],\n",
       "       [2.38689478e-03],\n",
       "       [9.85831380e-01],\n",
       "       [2.85134390e-02],\n",
       "       [3.08069497e-01],\n",
       "       [9.96947944e-01],\n",
       "       [1.95398584e-01],\n",
       "       [9.99270499e-01],\n",
       "       [5.25578737e-01],\n",
       "       [4.66794518e-06],\n",
       "       [9.99887705e-01],\n",
       "       [9.71959829e-01],\n",
       "       [9.95323002e-01],\n",
       "       [2.37711647e-04],\n",
       "       [1.91630574e-03],\n",
       "       [8.33226591e-02],\n",
       "       [1.61403674e-03],\n",
       "       [9.92647290e-01],\n",
       "       [9.38430965e-01],\n",
       "       [9.98820722e-01],\n",
       "       [9.89531517e-01],\n",
       "       [9.71157312e-01],\n",
       "       [9.85862672e-01],\n",
       "       [1.29532521e-06],\n",
       "       [5.19825406e-02],\n",
       "       [1.22055747e-02],\n",
       "       [9.96592700e-01],\n",
       "       [9.83923852e-01],\n",
       "       [1.71441061e-03],\n",
       "       [8.89007747e-01],\n",
       "       [1.42546437e-08],\n",
       "       [1.94300024e-04],\n",
       "       [1.17335265e-04],\n",
       "       [9.90885198e-01],\n",
       "       [6.69300914e-01],\n",
       "       [3.63230618e-04],\n",
       "       [9.95560646e-01],\n",
       "       [5.18674970e-01],\n",
       "       [1.36398987e-04],\n",
       "       [9.79203045e-01],\n",
       "       [9.99780357e-01],\n",
       "       [8.88936579e-01],\n",
       "       [9.97325540e-01],\n",
       "       [9.98722970e-01],\n",
       "       [2.28707958e-02],\n",
       "       [3.74163892e-06],\n",
       "       [4.69189341e-04],\n",
       "       [9.98538375e-01],\n",
       "       [5.30263372e-02],\n",
       "       [9.98746276e-01],\n",
       "       [9.99355018e-01],\n",
       "       [9.99694824e-01],\n",
       "       [3.21329688e-03],\n",
       "       [8.88724969e-08],\n",
       "       [9.99759018e-01],\n",
       "       [4.45101589e-01],\n",
       "       [2.12273881e-01],\n",
       "       [2.48949545e-05],\n",
       "       [9.89315987e-01],\n",
       "       [9.94561970e-01],\n",
       "       [6.90974484e-05],\n",
       "       [9.25130188e-01],\n",
       "       [9.63536561e-01],\n",
       "       [9.84557807e-01],\n",
       "       [9.99644160e-01],\n",
       "       [9.87707794e-01],\n",
       "       [9.82435822e-01],\n",
       "       [7.17594028e-01],\n",
       "       [1.43377576e-03],\n",
       "       [9.96501088e-01],\n",
       "       [5.93273471e-05],\n",
       "       [6.96365952e-01],\n",
       "       [6.17515743e-01],\n",
       "       [9.25353408e-01],\n",
       "       [9.59794402e-01],\n",
       "       [8.20405316e-04],\n",
       "       [1.65637769e-03],\n",
       "       [8.01100433e-01]], dtype=float32)"
      ]
     },
     "execution_count": 25,
     "metadata": {},
     "output_type": "execute_result"
    }
   ],
   "source": [
    "predictions = model.predict(x_test)\n",
    "predictions"
   ]
  },
  {
   "cell_type": "code",
   "execution_count": 24,
   "metadata": {},
   "outputs": [
    {
     "name": "stdout",
     "output_type": "stream",
     "text": [
      "114/114 [==============================] - 0s 116us/step\n"
     ]
    },
    {
     "data": {
      "text/plain": [
       "[0.11362353490110029, 0.9561403519228885]"
      ]
     },
     "execution_count": 24,
     "metadata": {},
     "output_type": "execute_result"
    }
   ],
   "source": [
    "score = model.evaluate(x_test, y_test)\n",
    "score #loss;accuracy"
   ]
  },
  {
   "cell_type": "code",
   "execution_count": null,
   "metadata": {},
   "outputs": [],
   "source": []
  }
 ],
 "metadata": {
  "kernelspec": {
   "display_name": "Python 3",
   "language": "python",
   "name": "python3"
  },
  "language_info": {
   "codemirror_mode": {
    "name": "ipython",
    "version": 3
   },
   "file_extension": ".py",
   "mimetype": "text/x-python",
   "name": "python",
   "nbconvert_exporter": "python",
   "pygments_lexer": "ipython3",
   "version": "3.5.6"
  }
 },
 "nbformat": 4,
 "nbformat_minor": 4
}
